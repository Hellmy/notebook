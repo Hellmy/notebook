{
 "cells": [
  {
   "cell_type": "code",
   "execution_count": null,
   "metadata": {},
   "outputs": [],
   "source": [
    "import base64\n",
    "print('Base64 Encode:')\n",
    "\n",
    "string = input('encode?')\n",
    "\n",
    "encoded = base64.b64encode(string.encode())\n",
    "print(encoded.decode())"
   ]
  },
  {
   "cell_type": "code",
   "execution_count": null,
   "metadata": {},
   "outputs": [],
   "source": [
    "import base64\n",
    "print('Base64 Decode:')\n",
    "\n",
    "string = input('decode?')\n",
    "\n",
    "decoded = base64.b64decode(string.encode())\n",
    "print(decoded.decode())"
   ]
  },
  {
   "cell_type": "code",
   "execution_count": null,
   "metadata": {
    "collapsed": true
   },
   "outputs": [],
   "source": [
    "import requests\n",
    "import json\n",
    "\n",
    "def sendRequest(commands):\n",
    "    print(json.dumps(commands))\n",
    "    response = requests.post(url, verify=False, data=json.dumps(commands),headers={\"Content-Type\": \"application/json\", \"Authorization\": \"Bearer xxx\"})\n",
    "    print(response.content)\n",
    "\n",
    "url = 'xxxx'\n",
    "file_object  = open(\"unsynced.txt\", \"r\")\n",
    "commands = []\n",
    "for line in file_object:\n",
    "    data = line.rstrip()\n",
    "    commands += [{'commandId': data}]\n",
    "    if len(commands)>20:\n",
    "        sendRequest(commands)\n",
    "        commands = []\n",
    "# send last command array\n",
    "sendRequest(commands)\n"
   ]
  }
 ],
 "metadata": {
  "celltoolbar": "Raw Cell Format",
  "kernelspec": {
   "display_name": "Python 3",
   "language": "python",
   "name": "python3"
  },
  "language_info": {
   "codemirror_mode": {
    "name": "ipython",
    "version": 3
   },
   "file_extension": ".py",
   "mimetype": "text/x-python",
   "name": "python",
   "nbconvert_exporter": "python",
   "pygments_lexer": "ipython3",
   "version": "3.6.5"
  }
 },
 "nbformat": 4,
 "nbformat_minor": 2
}
