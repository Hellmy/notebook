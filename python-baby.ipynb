{
 "cells": [
  {
   "cell_type": "markdown",
   "metadata": {
    "collapsed": true
   },
   "source": [
    "Here we go with the first notebook and examples and a few details about the following function\n",
    "```\n",
    "+ Addition -> It adds numbers on either side of the operator.\n",
    "\n",
    "* Multiplication -> It multiplies numbers on either side of the operator.\n",
    "\n",
    "/ Division -> It divides left-hand operand by right-hand operand.\n",
    "\n",
    "pow(X, Y, Z) -> It determines [X to the power Y]. If Z is available, then it'll return X to the power Y, modulo Z.\n",
    "```"
   ]
  },
  {
   "cell_type": "code",
   "execution_count": 12,
   "metadata": {},
   "outputs": [
    {
     "name": "stdout",
     "output_type": "stream",
     "text": [
      "Interest Calculator:\n",
      "Principal amount ?5\n",
      "Rate of Interest ?0.2\n",
      "Duration (no. of years) ?10\n",
      "\n",
      "Interest = 0.10\n"
     ]
    }
   ],
   "source": [
    "print('Interest Calculator:')\n",
    "\n",
    "amount = float(input('Principal amount ?'))\n",
    "roi = float(input('Rate of Interest ?'))\n",
    "yrs = int(input('Duration (no. of years) ?'))\n",
    "\n",
    "total = (amount * pow(1 + (roi/100), yrs))\n",
    "interest =total - amount\n",
    "print('\\nInterest = %0.2f' %interest)"
   ]
  },
  {
   "cell_type": "markdown",
   "metadata": {},
   "source": [
    "Debugging tryout\n",
    "Use n for next line\n",
    "Use c for continue execution"
   ]
  },
  {
   "cell_type": "code",
   "execution_count": 14,
   "metadata": {},
   "outputs": [
    {
     "name": "stdout",
     "output_type": "stream",
     "text": [
      "> <ipython-input-14-b567e28d9592>(4)add_to_life_universe_everything()\n",
      "-> answer += x\n",
      "(Pdb) n\n",
      "> <ipython-input-14-b567e28d9592>(6)add_to_life_universe_everything()\n",
      "-> return answer\n",
      "(Pdb) answer\n",
      "54\n",
      "(Pdb) c\n"
     ]
    },
    {
     "data": {
      "text/plain": [
       "54"
      ]
     },
     "execution_count": 14,
     "metadata": {},
     "output_type": "execute_result"
    }
   ],
   "source": [
    "def add_to_life_universe_everything(x):\n",
    "    answer = 42\n",
    "    import pdb; pdb.set_trace()\n",
    "    answer += x\n",
    "    \n",
    "    return answer\n",
    "\n",
    "add_to_life_universe_everything(12)"
   ]
  },
  {
   "cell_type": "markdown",
   "metadata": {},
   "source": [
    "Leap-Exercism solution tryout"
   ]
  },
  {
   "cell_type": "code",
   "execution_count": 1,
   "metadata": {
    "collapsed": true
   },
   "outputs": [],
   "source": [
    "def is_leap_year(year):\n",
    "    # on every year that is evenly divisible by 4\n",
    "    # except every year that is evenly divisible by 100\n",
    "    # unless the year is also evenly divisible by 400\n",
    "    if even4(year) and (not evenly100(year) or evenly400(year)):\n",
    "        return True\n",
    "    else:\n",
    "        return False\n",
    "\n",
    "def even4(year):\n",
    "    return True if year % 4 == 0 else False\n",
    "\n",
    "def evenly100(year):\n",
    "    return True if year % 100 == 0 else False\n",
    "\n",
    "def evenly400(year):\n",
    "    return True if year % 400 == 0 else False"
   ]
  },
  {
   "cell_type": "code",
   "execution_count": 7,
   "metadata": {},
   "outputs": [
    {
     "name": "stdout",
     "output_type": "stream",
     "text": [
      "True\n",
      "False\n"
     ]
    }
   ],
   "source": [
    "print(is_leap_year(2012))\n",
    "print(is_leap_year(2017))"
   ]
  },
  {
   "cell_type": "markdown",
   "metadata": {},
   "source": [
    "isogram Aufgabe - eine rekursive Funktion"
   ]
  },
  {
   "cell_type": "code",
   "execution_count": 25,
   "metadata": {},
   "outputs": [
    {
     "name": "stdout",
     "output_type": "stream",
     "text": [
      "f: True found: False\n",
      "o: True found: True\n",
      "o: True found: True\n",
      "o: True found: True\n",
      "l: True found: False\n",
      "o: True found: False\n",
      "Repeated: False\n",
      "f: True found: False\n",
      "o: True found: True\n",
      "o: True found: True\n",
      "o: True found: True\n",
      "l: True found: False\n",
      "o: True found: False\n"
     ]
    },
    {
     "data": {
      "text/plain": [
       "True"
      ]
     },
     "execution_count": 25,
     "metadata": {},
     "output_type": "execute_result"
    }
   ],
   "source": [
    "def is_isogram(string):\n",
    "    lowString = string.lower()\n",
    "    print('Repeated: %s' % (isRepeated(lowString)))\n",
    "    return not isRepeated(lowString)\n",
    "\n",
    "def isRepeated(lowString):\n",
    "    if len(lowString) == 0:\n",
    "        return False\n",
    "    else:\n",
    "        print('%s: %s found: %s' % (lowString[0], lowString[0].isalpha(), (lowString[0].isalpha() and lowString.find(lowString[0],1) > 0)))\n",
    "        return (lowString[0].isalpha() and lowString.find(lowString[0],1) > 0) or isRepeated(lowString[1:])\n",
    "\n",
    "is_isogram('fooolo')"
   ]
  },
  {
   "cell_type": "markdown",
   "metadata": {},
   "source": [
    "isogram Aufgabe mit Set und Sorted!"
   ]
  },
  {
   "cell_type": "code",
   "execution_count": null,
   "metadata": {
    "collapsed": true
   },
   "outputs": [],
   "source": [
    "# geklaut, aber interessanter Ansatz mit dem Set und Sorted!!\n",
    "import regex\n",
    "\n",
    "def is_isogram(strand):\n",
    "    s = regex.findall(r'\\p{L}', strand.lower())\n",
    "    return sorted(set(s)) == sorted(s)"
   ]
  },
  {
   "cell_type": "markdown",
   "metadata": {},
   "source": [
    "isogram Aufgabe mit Key-Map"
   ]
  },
  {
   "cell_type": "code",
   "execution_count": null,
   "metadata": {
    "collapsed": true
   },
   "outputs": [],
   "source": [
    "def is_isogram(string):\n",
    "    pmap = {}\n",
    "    for c in string:\n",
    "        if c in pmap.keys():\n",
    "            return False\n",
    "        elif c.isalpha():\n",
    "            pmap[c.lower()] = 1\n",
    "    return True"
   ]
  }
 ],
 "metadata": {
  "kernelspec": {
   "display_name": "Python 3",
   "language": "python",
   "name": "python3"
  },
  "language_info": {
   "codemirror_mode": {
    "name": "ipython",
    "version": 3
   },
   "file_extension": ".py",
   "mimetype": "text/x-python",
   "name": "python",
   "nbconvert_exporter": "python",
   "pygments_lexer": "ipython3",
   "version": "3.6.3"
  }
 },
 "nbformat": 4,
 "nbformat_minor": 2
}
