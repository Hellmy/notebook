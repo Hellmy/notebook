{
 "cells": [
  {
   "cell_type": "markdown",
   "metadata": {},
   "source": [
    "first install the typescript-kernel:\n",
    "```\n",
    "sudo npm install -g itypescript\n",
    "its --ts-install=local\n",
    "```\n",
    "source is https://github.com/nearbydelta/itypescript\n",
    "\n",
    "Therefore also the python-version has to be switched to 2.7 - source activate py27 (after configuring with conda the python2.7 environment)"
   ]
  },
  {
   "cell_type": "markdown",
   "metadata": {
    "collapsed": true
   },
   "source": []
  }
 ],
 "metadata": {
  "kernelspec": {
   "display_name": "Typescript 2.6",
   "language": "typescript",
   "name": "typescript"
  },
  "language_info": {
   "file_extension": ".ts",
   "mimetype": "text/x-typescript",
   "name": "typescript",
   "version": "2.6.2"
  }
 },
 "nbformat": 4,
 "nbformat_minor": 2
}
